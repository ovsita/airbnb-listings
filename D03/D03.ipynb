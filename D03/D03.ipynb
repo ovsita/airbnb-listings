{
  "cells": [
    {
      "cell_type": "markdown",
      "metadata": {
        "id": "3Td0RT-qGI2q"
      },
      "source": [
        "# Team 02\n",
        "# 5.3 Modeling\n"
      ]
    },
    {
      "cell_type": "markdown",
      "metadata": {
        "id": "xigYUDqRGUoQ"
      },
      "source": [
        "We display the libraries that we will use for the modeling."
      ]
    },
    {
      "cell_type": "code",
      "execution_count": 94,
      "metadata": {
        "id": "dROoyAvBF4kb"
      },
      "outputs": [],
      "source": [
        "import pandas as pd\n",
        "import numpy as np\n",
        "import seaborn as sns\n",
        "import matplotlib.pyplot as plt\n",
        "from sklearn.preprocessing import StandardScaler\n",
        "from sklearn.model_selection import train_test_split\n",
        "from sklearn.metrics import mean_absolute_error, mean_absolute_percentage_error,r2_score,mean_squared_error\n",
        "from sklearn.tree import DecisionTreeRegressor \n",
        "from sklearn.svm import SVR\n",
        "from sklearn.ensemble import StackingRegressor\n",
        "import math\n",
        "from sklearn.linear_model import Lasso\n",
        "from sklearn.feature_selection import SelectFromModel\n",
        "from sklearn.pipeline import Pipeline\n",
        "from sklearn.model_selection import GridSearchCV\n",
        "from sklearn.ensemble import RandomForestRegressor\n",
        "from xgboost import plot_importance\n",
        "from sklearn.ensemble import AdaBoostRegressor\n",
        "from sklearn.model_selection import cross_val_score\n",
        "from sklearn import  linear_model\n",
        "from sklearn.linear_model import Ridge\n",
        "import statsmodels.api as sm\n",
        "from scipy import stats\n",
        "from sklearn.linear_model import LinearRegression\n",
        "from sklearn.ensemble import GradientBoostingRegressor\n",
        "from sklearn import neighbors\n",
        "from sklearn.ensemble import BaggingRegressor\n",
        "from xgboost import XGBRegressor\n",
        "plt.style.use(\"ggplot\")"
      ]
    },
    {
      "cell_type": "code",
      "execution_count": 57,
      "metadata": {
        "colab": {
          "base_uri": "https://localhost:8080/"
        },
        "id": "ROknaUSNF5BB",
        "outputId": "f77763c8-7d4a-4e82-f7d0-afdd9414872a"
      },
      "outputs": [
        {
          "output_type": "stream",
          "name": "stdout",
          "text": [
            "<class 'pandas.core.frame.DataFrame'>\n",
            "Int64Index: 9582 entries, 0 to 9581\n",
            "Data columns (total 22 columns):\n",
            " #   Column                  Non-Null Count  Dtype  \n",
            "---  ------                  --------------  -----  \n",
            " 0   host_acceptance_rate    9582 non-null   float64\n",
            " 1   host_is_superhost       9582 non-null   int64  \n",
            " 2   host_identity_verified  9582 non-null   int64  \n",
            " 3   latitude                9582 non-null   float64\n",
            " 4   bathrooms               9582 non-null   float64\n",
            " 5   price                   9582 non-null   float64\n",
            " 6   has_availability        9582 non-null   int64  \n",
            " 7   instant_bookable        9582 non-null   int64  \n",
            " 8   Private room            9582 non-null   int64  \n",
            " 9   within a day            9582 non-null   int64  \n",
            " 10  within a few hours      9582 non-null   int64  \n",
            " 11  kitchen                 9582 non-null   int64  \n",
            " 12  Breakfast               9582 non-null   int64  \n",
            " 13  Nespresso machine       9582 non-null   int64  \n",
            " 14  TV                      9582 non-null   int64  \n",
            " 15  security_cameras        9582 non-null   int64  \n",
            " 16  Wifi                    9582 non-null   int64  \n",
            " 17  hot_water               9582 non-null   int64  \n",
            " 18  log_min_nights          9582 non-null   float64\n",
            " 19  log_max_nights          9582 non-null   float64\n",
            " 20  log_nreviews            9582 non-null   float64\n",
            " 21  log_accommo             9582 non-null   float64\n",
            "dtypes: float64(8), int64(14)\n",
            "memory usage: 1.7 MB\n"
          ]
        }
      ],
      "source": [
        "df = pd.read_csv(\"clean.csv\",index_col=0)\n",
        "df.info()"
      ]
    },
    {
      "cell_type": "code",
      "execution_count": null,
      "metadata": {
        "colab": {
          "base_uri": "https://localhost:8080/",
          "height": 412
        },
        "id": "mops6l8LF-hh",
        "outputId": "1c144db0-eec8-4e55-f3eb-84fd066ab4ff"
      },
      "outputs": [
        {
          "data": {
            "image/png": "[encoded data removed]",
            "text/plain": [
              "<Figure size 1500x600 with 1 Axes>"
            ]
          },
          "metadata": {},
          "output_type": "display_data"
        }
      ],
      "source": [
        "#histogram of price\n",
        "f, ax = plt.subplots(1,1,figsize=(15,6))\n",
        "ax = sns.histplot(df.price)\n",
        "plt.xscale(\"log\")\n",
        "plt.title(\"Histogram of price\")\n",
        "plt.axvline(df.price.mean(), color='k', linestyle='dashed', linewidth=3)\n",
        "plt.axvline(df.price.median(), color='green', linestyle='dashed', linewidth=3)\n",
        "ax.annotate('mean', xy=(100,750),size=15)\n",
        "ax.annotate('median', xy=(30,800),size=15,color=\"green\")\n",
        "plt.show()\n"
      ]
    },
    {
      "cell_type": "markdown",
      "metadata": {
        "id": "VubcgaevGk8m"
      },
      "source": [
        "# Cutting off the dataset with prices less than 500"
      ]
    },
    {
      "cell_type": "code",
      "execution_count": 86,
      "metadata": {
        "id": "l9EkYm1XF-nh"
      },
      "outputs": [],
      "source": [
        "df2 = df[df[\"price\"]<500]"
      ]
    },
    {
      "cell_type": "code",
      "execution_count": null,
      "metadata": {
        "id": "IpYHl2rzGxt7"
      },
      "outputs": [],
      "source": [
        "#Fill outliers in log_min_nights, log_max_nights with median\n",
        "df2.loc[df2.log_min_nights>2,\"log_min_nights\"] = df2.log_min_nights.median()\n",
        "df2.loc[df2.log_max_nights>10,\"log_max_nights\"] = df2.log_max_nights.median()\n",
        "df2.loc[df2.log_max_nights<0.5,\"log_max_nights\"] = df2.log_max_nights.median()"
      ]
    },
    {
      "cell_type": "code",
      "execution_count": 87,
      "metadata": {
        "colab": {
          "base_uri": "https://localhost:8080/"
        },
        "id": "7piDNdyMGxy8",
        "outputId": "2cbed65b-bb7a-49fd-d543-e9e10506c81f"
      },
      "outputs": [
        {
          "output_type": "stream",
          "name": "stdout",
          "text": [
            "                            OLS Regression Results                            \n",
            "==============================================================================\n",
            "Dep. Variable:                  price   R-squared:                       0.336\n",
            "Model:                            OLS   Adj. R-squared:                  0.335\n",
            "Method:                 Least Squares   F-statistic:                     228.9\n",
            "Date:                Tue, 01 Nov 2022   Prob (F-statistic):               0.00\n",
            "Time:                        14:40:05   Log-Likelihood:                -49266.\n",
            "No. Observations:                9499   AIC:                         9.858e+04\n",
            "Df Residuals:                    9477   BIC:                         9.873e+04\n",
            "Df Model:                          21                                         \n",
            "Covariance Type:            nonrobust                                         \n",
            "==========================================================================================\n",
            "                             coef    std err          t      P>|t|      [0.025      0.975]\n",
            "------------------------------------------------------------------------------------------\n",
            "const                   1.946e+04   1307.698     14.881      0.000    1.69e+04     2.2e+04\n",
            "host_acceptance_rate       0.0619      0.025      2.476      0.013       0.013       0.111\n",
            "host_is_superhost          4.6770      1.006      4.648      0.000       2.704       6.650\n",
            "host_identity_verified     5.6769      1.066      5.327      0.000       3.588       7.766\n",
            "latitude                -513.0691     34.426    -14.903      0.000    -580.552    -445.586\n",
            "bathrooms                 34.7241      1.019     34.073      0.000      32.726      36.722\n",
            "has_availability           3.9781      3.314      1.200      0.230      -2.518      10.474\n",
            "instant_bookable          -2.4862      1.072     -2.320      0.020      -4.587      -0.386\n",
            "Private room               2.8784      1.747      1.648      0.099      -0.546       6.303\n",
            "within a day              10.7398      2.359      4.553      0.000       6.116      15.364\n",
            "within a few hours        -0.0457      1.841     -0.025      0.980      -3.655       3.563\n",
            "kitchen                  -21.4932      1.556    -13.812      0.000     -24.544     -18.443\n",
            "Breakfast                 16.1931      1.551     10.440      0.000      13.153      19.234\n",
            "Nespresso machine          8.6807      1.721      5.044      0.000       5.307      12.054\n",
            "TV                        12.3980      1.483      8.363      0.000       9.492      15.304\n",
            "security_cameras           3.0138      1.858      1.622      0.105      -0.629       6.657\n",
            "Wifi                       5.9091      2.849      2.074      0.038       0.324      11.494\n",
            "hot_water                 -4.0752      1.192     -3.418      0.001      -6.413      -1.738\n",
            "log_min_nights            -4.5725      0.799     -5.725      0.000      -6.138      -3.007\n",
            "log_max_nights             1.9436      0.278      6.992      0.000       1.399       2.488\n",
            "log_nreviews              -4.8258      0.269    -17.913      0.000      -5.354      -4.298\n",
            "log_accommo               31.6712      1.291     24.531      0.000      29.140      34.202\n",
            "==============================================================================\n",
            "Omnibus:                     5808.368   Durbin-Watson:                   1.716\n",
            "Prob(Omnibus):                  0.000   Jarque-Bera (JB):            92987.565\n",
            "Skew:                           2.656   Prob(JB):                         0.00\n",
            "Kurtosis:                      17.378   Cond. No.                     3.01e+05\n",
            "==============================================================================\n",
            "\n",
            "Notes:\n",
            "[1] Standard Errors assume that the covariance matrix of the errors is correctly specified.\n",
            "[2] The condition number is large, 3.01e+05. This might indicate that there are\n",
            "strong multicollinearity or other numerical problems.\n"
          ]
        }
      ],
      "source": [
        "#p-values significance for features\n",
        "x = df2.drop(\"price\",axis=1)\n",
        "y=df2[\"price\"]\n",
        "X2 = sm.add_constant(x)\n",
        "est = sm.OLS(y, X2)\n",
        "est2 = est.fit()\n",
        "print(est2.summary())"
      ]
    },
    {
      "cell_type": "code",
      "execution_count": 88,
      "metadata": {
        "id": "e944W3QGGx1w"
      },
      "outputs": [],
      "source": [
        "#drop non significant variables(a=0.05)\n",
        "df2.drop([\"has_availability\",\"Private room\",\"within a few hours\",\"security_cameras\"],axis=1,inplace=True)"
      ]
    },
    {
      "cell_type": "markdown",
      "metadata": {
        "id": "u22lmp0MI11v"
      },
      "source": [
        "# Regression "
      ]
    },
    {
      "cell_type": "markdown",
      "metadata": {
        "id": "bBsP6P1LvFi3"
      },
      "source": [
        "## Spliting the data set into train (70%) and test (30%)"
      ]
    },
    {
      "cell_type": "code",
      "execution_count": 67,
      "metadata": {
        "id": "1v6YxT_cJIvB"
      },
      "outputs": [],
      "source": [
        "#spliting the data\n",
        "x = df2.drop(\"price\",axis=1)\n",
        "y=df2[\"price\"]\n",
        "x_train, x_test, y_train, y_test = train_test_split(x, y, test_size = 0.3,random_state=13)"
      ]
    },
    {
      "cell_type": "markdown",
      "metadata": {
        "id": "6qNtYUhvybnE"
      },
      "source": [
        "## Standardization"
      ]
    },
    {
      "cell_type": "code",
      "execution_count": 68,
      "metadata": {
        "id": "kIqIZxHpydds"
      },
      "outputs": [],
      "source": [
        "sc = StandardScaler()\n",
        "x_train = sc.fit_transform(x_train)\n",
        "x_test = sc.fit_transform(x_test)"
      ]
    },
    {
      "cell_type": "markdown",
      "source": [
        "##Linear Regression"
      ],
      "metadata": {
        "id": "6WoyTEnUjW4_"
      }
    },
    {
      "cell_type": "code",
      "source": [
        "model = LinearRegression(fit_intercept = True)\n",
        "model.fit(x_train, y_train)\n",
        "preds = model.predict(x_test)\n",
        "print(\"Train Accuracy: \",model.score(x_train, y_train))\n",
        "print(\"Test Accuracy: \",model.score(x_test, y_test))\n",
        "\n",
        "mae = mean_absolute_error(y_test, preds)\n",
        "mape = mean_absolute_percentage_error(y_test, preds)\n",
        "r2  = r2_score(y_test, preds)\n",
        "mse = mean_squared_error(y_test, preds)\n",
        "print('Mean Absolute Error (MAE): %.3f' % mae)\n",
        "print('Mean Absolute Percentage Error (MAPE): %.5f' % mape)\n",
        "print('Coefficient of Determination (R2): %.5f' % r2)\n",
        "print('Mean Squared Error (MSE): %.5f' % mse)"
      ],
      "metadata": {
        "colab": {
          "base_uri": "https://localhost:8080/"
        },
        "id": "pSkZ4dYxj-Vk",
        "outputId": "6a0daed1-d2ce-48d5-ed9c-3849c2bd2b44"
      },
      "execution_count": 70,
      "outputs": [
        {
          "output_type": "stream",
          "name": "stdout",
          "text": [
            "Train Accuracy:  0.3373234730545379\n",
            "Test Accuracy:  0.3301566903928347\n",
            "Mean Absolute Error (MAE): 27.240\n",
            "Mean Absolute Percentage Error (MAPE): 0.48844\n",
            "Coefficient of Determination (R2): 0.33016\n",
            "Mean Squared Error (MSE): 1917.90326\n"
          ]
        }
      ]
    },
    {
      "cell_type": "markdown",
      "source": [
        "##Cross Validation - Linear Regression"
      ],
      "metadata": {
        "id": "p2o_MuSkkCw1"
      }
    },
    {
      "cell_type": "code",
      "source": [
        "#k=5 cross validation Linear Regression\n",
        "model = cross_val_score(estimator=regressor,\n",
        "scoring=\"neg_mean_absolute_error\",\n",
        "        X=x_train, y=y_train, cv=5)"
      ],
      "metadata": {
        "id": "IwZNaBp6kBsI"
      },
      "execution_count": 71,
      "outputs": []
    },
    {
      "cell_type": "code",
      "source": [
        "print(\"Linear Regression Cross Validation\")\n",
        "print(\"Mean Absolute Error (MAE): {}\".format(-model.mean()))\n",
        "print(\"Std: {}\".format(model.std()))"
      ],
      "metadata": {
        "colab": {
          "base_uri": "https://localhost:8080/"
        },
        "id": "GnYeZuDckJMi",
        "outputId": "0f0d5ad5-8954-4f52-ee52-2a0be6776be8"
      },
      "execution_count": 72,
      "outputs": [
        {
          "output_type": "stream",
          "name": "stdout",
          "text": [
            "Linear Regression Cross Validation\n",
            "Mean Absolute Error (MAE): 24.641163235402278\n",
            "Std: 0.7647378981492069\n"
          ]
        }
      ]
    },
    {
      "cell_type": "markdown",
      "source": [
        "##Ridge Regression"
      ],
      "metadata": {
        "id": "5l82mRmFkxqX"
      }
    },
    {
      "cell_type": "code",
      "source": [
        "ridge  = Ridge(fit_intercept = True)\n",
        "# fitting the model\n",
        "ridge.fit(x_train, y_train)\n",
        "# predictions\n",
        "preds = ridge.predict(x_test)\n",
        "\n",
        "print(\"Train Accuracy:\",ridge.score(x_train, y_train))\n",
        "print(\"Test Accuracy:\",ridge.score(x_test, y_test))\n",
        "\n",
        "# evaluate predictions\n",
        "mae = mean_absolute_error(y_test, preds)\n",
        "mape = mean_absolute_percentage_error(y_test, preds)\n",
        "r2  = r2_score(y_test, preds)\n",
        "mse = mean_squared_error(y_test, preds)\n",
        "\n",
        "print('Mean Absolute Error (MAE): %.5f' % mae)\n",
        "print('Μean Absolute Percentage Error (MAPE): %.5f' % mape)\n",
        "print('Coefficient of Determination (R2): %.5f' % r2)\n",
        "print('Mean Squared Error (MSE): %.5f' % mse)"
      ],
      "metadata": {
        "colab": {
          "base_uri": "https://localhost:8080/"
        },
        "id": "kSuF6F28kxHl",
        "outputId": "5e7c7cea-a436-4292-fdf7-be1f7f2ccbea"
      },
      "execution_count": 73,
      "outputs": [
        {
          "output_type": "stream",
          "name": "stdout",
          "text": [
            "Train Accuracy: 0.3373234682954648\n",
            "Test Accuracy: 0.33015596521326185\n",
            "Mean Absolute Error (MAE): 27.23963\n",
            "Μean Absolute Percentage Error (MAPE): 0.48843\n",
            "Coefficient of Determination (R2): 0.33016\n",
            "Mean Squared Error (MSE): 1917.90534\n"
          ]
        }
      ]
    },
    {
      "cell_type": "markdown",
      "source": [
        "##Cross Validation - Ridge Regression"
      ],
      "metadata": {
        "id": "NARWqiYNk6Zl"
      }
    },
    {
      "cell_type": "code",
      "source": [
        "#k=5 cross validation Ridge Regression\n",
        "ridge = cross_val_score(estimator=regressor,\n",
        "scoring=\"neg_mean_absolute_error\",\n",
        "        X=x_train, y=y_train, cv=5)"
      ],
      "metadata": {
        "id": "SVu-uDkFk5-b"
      },
      "execution_count": 74,
      "outputs": []
    },
    {
      "cell_type": "code",
      "source": [
        "print(\"Ridge Regression Cross Validation\")\n",
        "print(\"Mean Absolute Error (MAE): {}\".format(-ridge.mean()))\n",
        "print(\"Std: {}\".format(ridge.std()))"
      ],
      "metadata": {
        "colab": {
          "base_uri": "https://localhost:8080/"
        },
        "id": "T6TI2JYfktnJ",
        "outputId": "8a20ce0a-acc9-4e21-bf85-e0ae8b8f33ca"
      },
      "execution_count": 75,
      "outputs": [
        {
          "output_type": "stream",
          "name": "stdout",
          "text": [
            "Ridge Regression Cross Validation\n",
            "Mean Absolute Error (MAE): 24.62800449204275\n",
            "Std: 0.7762663244379091\n"
          ]
        }
      ]
    },
    {
      "cell_type": "markdown",
      "source": [
        "##XGBRegressor"
      ],
      "metadata": {
        "id": "2qJG3li2lGDe"
      }
    },
    {
      "cell_type": "code",
      "source": [
        "# Create instace\n",
        "xgb_reg = XGBRegressor()\n",
        "# Fit the model on training data\n",
        "xgb_reg.fit(x_train, y_train)\n",
        "# Predict\n",
        "training_preds_xgb_reg = xgb_reg.predict(x_train)\n",
        "# Validate\n",
        "val_preds_xgb_reg = xgb_reg.predict(x_test)\n",
        "# evaluate predictions\n",
        "mae = mean_absolute_error(y_test, val_preds_xgb_reg)\n",
        "mape = mean_absolute_percentage_error(y_test, preds)\n",
        "r2  = r2_score(y_test, val_preds_xgb_reg)\n",
        "mse = mean_squared_error(y_test, val_preds_xgb_reg)\n",
        "\n",
        "print('Mean Absolute Error (MAE): %.5f' % mae)\n",
        "print('Μean Absolute Percentage Error (MAPE): %.5f' % mape)\n",
        "print('Coefficient of Determination (R2): %.5f' % r2)\n",
        "print('Mean Squared Error (MSE): %.5f' % mse)"
      ],
      "metadata": {
        "colab": {
          "base_uri": "https://localhost:8080/"
        },
        "id": "S6ipXU1zlF1c",
        "outputId": "9035dad4-6c38-458f-9720-d76577f3cfe9"
      },
      "execution_count": 89,
      "outputs": [
        {
          "output_type": "stream",
          "name": "stdout",
          "text": [
            "[14:40:23] WARNING: /workspace/src/objective/regression_obj.cu:152: reg:linear is now deprecated in favor of reg:squarederror.\n",
            "Mean Absolute Error (MAE): 24.49461\n",
            "Μean Absolute Percentage Error (MAPE): 0.48843\n",
            "Coefficient of Determination (R2): 0.41155\n",
            "Mean Squared Error (MSE): 1684.84269\n"
          ]
        }
      ]
    },
    {
      "cell_type": "markdown",
      "source": [
        "##Cross Validation - XGBRegressor"
      ],
      "metadata": {
        "id": "H1iDlwyslNqx"
      }
    },
    {
      "cell_type": "code",
      "source": [
        "#k=5 cross validation XGBRegressor\n",
        "xgb_reg = cross_val_score(estimator=regressor,\n",
        "scoring=\"neg_mean_absolute_error\",\n",
        "        X=x_train, y=y_train, cv=5)"
      ],
      "metadata": {
        "id": "0lIFIVRflNPw"
      },
      "execution_count": 77,
      "outputs": []
    },
    {
      "cell_type": "code",
      "source": [
        "print(\"XGBRegressor Cross Validation\")\n",
        "print(\"Mean Absolute Error (MAE): {}\".format(-xgb_reg.mean()))\n",
        "print(\"Std: {}\".format(xgb_reg.std()))"
      ],
      "metadata": {
        "colab": {
          "base_uri": "https://localhost:8080/"
        },
        "id": "Y-OkHdQflDIj",
        "outputId": "93cdc6a8-9d3c-4240-ef9d-181f85a7ad32"
      },
      "execution_count": 78,
      "outputs": [
        {
          "output_type": "stream",
          "name": "stdout",
          "text": [
            "XGBRegressor Cross Validation\n",
            "Mean Absolute Error (MAE): 24.608227792958694\n",
            "Std: 0.7807069281411269\n"
          ]
        }
      ]
    },
    {
      "cell_type": "markdown",
      "source": [
        "#Hyper Parameter Tuning"
      ],
      "metadata": {
        "id": "dpw1-zV3lX8I"
      }
    },
    {
      "cell_type": "markdown",
      "metadata": {
        "id": "2FXU8waUvTA2"
      },
      "source": [
        "## Hyper Parameter Tuning - Desicion Tree Regressor"
      ]
    },
    {
      "cell_type": "code",
      "execution_count": 79,
      "metadata": {
        "colab": {
          "base_uri": "https://localhost:8080/"
        },
        "id": "s9jqlqijGx4J",
        "outputId": "097f1e9a-4598-4dda-f8d8-e7af00b7ccbe"
      },
      "outputs": [
        {
          "output_type": "stream",
          "name": "stderr",
          "text": [
            "/usr/local/lib/python3.7/dist-packages/sklearn/model_selection/_validation.py:372: FitFailedWarning: \n",
            "405 fits failed out of a total of 810.\n",
            "The score on these train-test partitions for these parameters will be set to nan.\n",
            "If these failures are not expected, you can try to debug them by setting error_score='raise'.\n",
            "\n",
            "Below are more details about the failures:\n",
            "--------------------------------------------------------------------------------\n",
            "405 fits failed with the following error:\n",
            "Traceback (most recent call last):\n",
            "  File \"/usr/local/lib/python3.7/dist-packages/sklearn/model_selection/_validation.py\", line 680, in _fit_and_score\n",
            "    estimator.fit(X_train, y_train, **fit_params)\n",
            "  File \"/usr/local/lib/python3.7/dist-packages/sklearn/tree/_classes.py\", line 1320, in fit\n",
            "    X_idx_sorted=X_idx_sorted,\n",
            "  File \"/usr/local/lib/python3.7/dist-packages/sklearn/tree/_classes.py\", line 356, in fit\n",
            "    criterion = CRITERIA_REG[self.criterion](self.n_outputs_, n_samples)\n",
            "KeyError: 'squarred_error'\n",
            "\n",
            "  warnings.warn(some_fits_failed_message, FitFailedWarning)\n",
            "/usr/local/lib/python3.7/dist-packages/sklearn/model_selection/_search.py:972: UserWarning: One or more of the test scores are non-finite: [       nan        nan        nan        nan        nan        nan\n",
            "        nan        nan        nan        nan        nan        nan\n",
            "        nan        nan        nan        nan        nan        nan\n",
            "        nan        nan        nan        nan        nan        nan\n",
            "        nan        nan        nan        nan        nan        nan\n",
            "        nan        nan        nan        nan        nan        nan\n",
            "        nan        nan        nan        nan        nan        nan\n",
            "        nan        nan        nan        nan        nan        nan\n",
            "        nan        nan        nan        nan        nan        nan\n",
            "        nan        nan        nan        nan        nan        nan\n",
            "        nan        nan        nan        nan        nan        nan\n",
            "        nan        nan        nan        nan        nan        nan\n",
            "        nan        nan        nan        nan        nan        nan\n",
            "        nan        nan        nan 0.15157419 0.15157419 0.15157419\n",
            " 0.15157419 0.15157419 0.15157419 0.15645254 0.15645254 0.15645254\n",
            " 0.15157419 0.15157419 0.15157419 0.15157419 0.15157419 0.15157419\n",
            " 0.15645254 0.15645254 0.15645254 0.15157419 0.15157419 0.15157419\n",
            " 0.15157419 0.15157419 0.15157419 0.15645254 0.15645254 0.15645254\n",
            " 0.19475856 0.19475856 0.19475856 0.19475856 0.19475856 0.19475856\n",
            " 0.1951242  0.1951242  0.1951242  0.27624713 0.27624713 0.27624713\n",
            " 0.28051945 0.28051945 0.2804104  0.25459469 0.25459469 0.25459469\n",
            " 0.2920225  0.29227326 0.29230032 0.29335564 0.29324752 0.29334078\n",
            " 0.2597131  0.25957172 0.25957172 0.19475856 0.19475856 0.19475856\n",
            " 0.19475856 0.19475856 0.19475856 0.1951242  0.1951242  0.1951242\n",
            " 0.27547356 0.27547356 0.27547356 0.28085105 0.2809601  0.28085105\n",
            " 0.25588364 0.25588364 0.25588364 0.3143758  0.31417251 0.31498967\n",
            " 0.30781426 0.30775658 0.30863523 0.26497075 0.26460196 0.26471904]\n",
            "  category=UserWarning,\n"
          ]
        },
        {
          "output_type": "execute_result",
          "data": {
            "text/plain": [
              "{'criterion': 'absolute_error',\n",
              " 'max_depth': 8,\n",
              " 'max_leaf_nodes': 100,\n",
              " 'min_samples_leaf': 20,\n",
              " 'min_samples_split': 40}"
            ]
          },
          "metadata": {},
          "execution_count": 79
        }
      ],
      "source": [
        "#time: approximately 10 minutes\n",
        "parameters = {\"criterion\": [\"squarred_error\", \"absolute_error\"],\n",
        "              \"min_samples_split\": [10, 20, 40],\n",
        "              \"max_depth\": [2, 6, 8],\n",
        "              \"min_samples_leaf\": [20, 40, 100],\n",
        "              \"max_leaf_nodes\": [5, 20, 100],\n",
        "              }\n",
        "reg = GridSearchCV(DecisionTreeRegressor(), param_grid=parameters)\n",
        "reg.fit(x_train,y_train)\n",
        "reg.best_params_"
      ]
    },
    {
      "cell_type": "code",
      "execution_count": null,
      "metadata": {
        "colab": {
          "base_uri": "https://localhost:8080/"
        },
        "id": "Mcznw5NqGx62",
        "outputId": "8e39b9c1-07ec-4d0f-9ba5-3aa4775a1ca4"
      },
      "outputs": [
        {
          "name": "stdout",
          "output_type": "stream",
          "text": [
            "Mean Absolute Error (MAE): 24.973684210526315\n",
            "Mean Absolute Percentage Error (MAPE): 0.3753674936367199\n",
            "Coefficient of Determination (R2): 0.32274436718237454\n",
            "Mean Squared Error (MSE): 1939.1263157894737\n"
          ]
        }
      ],
      "source": [
        "#Best parameters for Desicion Tree Regressor\n",
        "regressor = DecisionTreeRegressor(max_depth=8,criterion=\"absolute_error\",\n",
        "    max_leaf_nodes=100,min_samples_split=10,min_samples_leaf=20)\n",
        "regressor.fit(x_train, y_train)\n",
        "pred = regressor.predict(x_test)\n",
        "print(\"Mean Absolute Error (MAE): {}\".format(mean_absolute_error(y_test,pred)))\n",
        "print(\"Mean Absolute Percentage Error (MAPE): {}\".format(mean_absolute_percentage_error(y_test,pred)))\n",
        "print(\"Coefficient of Determination (R2): {}\".format(r2_score(y_test,pred)))\n",
        "print(\"Mean Squared Error (MSE): {}\".format(mean_squared_error(y_test,pred)))"
      ]
    },
    {
      "cell_type": "code",
      "execution_count": null,
      "metadata": {
        "colab": {
          "base_uri": "https://localhost:8080/",
          "height": 500
        },
        "id": "wIB3HoiQF-vV",
        "outputId": "2df620b4-9538-4020-8a8b-5361cd08fb4e"
      },
      "outputs": [
        {
          "data": {
            "image/png": "[encoded data removed]",
            "text/plain": [
              "<Figure size 1000x800 with 1 Axes>"
            ]
          },
          "metadata": {},
          "output_type": "display_data"
        }
      ],
      "source": [
        "#y_test with predicted y plot\n",
        "dd = pd.DataFrame({\"y_test\":y_test,\"pred\":pred})\n",
        "f, ax = plt.subplots(1,1,figsize=(10,8))\n",
        "sns.scatterplot(x=dd.y_test,y=dd.pred)\n",
        "ax.plot([0,1],[0,1], transform=ax.transAxes)\n",
        "plt.show()"
      ]
    },
    {
      "cell_type": "code",
      "execution_count": null,
      "metadata": {
        "colab": {
          "base_uri": "https://localhost:8080/",
          "height": 491
        },
        "id": "U6c6PgJcF-xr",
        "outputId": "39c07c28-6e2b-469e-d076-a49539890521"
      },
      "outputs": [
        {
          "data": {
            "image/png": "[encoded data removed]",
            "text/plain": [
              "<Figure size 1500x600 with 1 Axes>"
            ]
          },
          "metadata": {},
          "output_type": "display_data"
        }
      ],
      "source": [
        "d = pd.DataFrame({\"feature\":x.columns,\n",
        "                  \"importance\":regressor.feature_importances_})\n",
        "#Importance of features for Desicion Tree Regressor\n",
        "f, ax = plt.subplots(1,1,figsize=(15,6))\n",
        "ax = plt.bar(d.feature,d.importance)\n",
        "plt.xticks(rotation=80)\n",
        "plt.title(\"Importance of features - Desicion Tree Regressor\")\n",
        "plt.show()"
      ]
    },
    {
      "cell_type": "markdown",
      "metadata": {
        "id": "6GY2hX47KY4H"
      },
      "source": [
        "## Cross Validation - Desicion Tree Regressor"
      ]
    },
    {
      "cell_type": "code",
      "execution_count": null,
      "metadata": {
        "id": "1EI08LvLF-yg"
      },
      "outputs": [],
      "source": [
        "#k=5 cross validation Desicion Tree Regressor \n",
        "dtr = cross_val_score(estimator=regressor,\n",
        "scoring=\"neg_mean_absolute_error\",\n",
        "        X=x_train, y=y_train, cv=5)"
      ]
    },
    {
      "cell_type": "code",
      "execution_count": null,
      "metadata": {
        "colab": {
          "base_uri": "https://localhost:8080/"
        },
        "id": "qJFPy7uSFR0c",
        "outputId": "910cb274-baf4-4d36-ff83-f29712ee7c3d"
      },
      "outputs": [
        {
          "name": "stdout",
          "output_type": "stream",
          "text": [
            "Desicion Tree Regressor Cross Validation\n",
            "Mean Absolute Error (MAE): 24.633269912931315\n",
            "Std: 0.7978381087260812\n"
          ]
        }
      ],
      "source": [
        "print(\"Desicion Tree Regressor Cross Validation\")\n",
        "print(\"Mean Absolute Error (MAE): {}\".format(-dtr.mean()))\n",
        "print(\"Std: {}\".format(dtr.std()))"
      ]
    },
    {
      "cell_type": "markdown",
      "metadata": {
        "id": "s5KAwUMELA3Q"
      },
      "source": [
        "## Hyper Parameter Tuning - SVM Regressor"
      ]
    },
    {
      "cell_type": "code",
      "execution_count": null,
      "metadata": {
        "colab": {
          "base_uri": "https://localhost:8080/"
        },
        "id": "CiSg6xwUF-14",
        "outputId": "0131d2b1-8bb3-45f6-f8ba-575b434407b6"
      },
      "outputs": [
        {
          "data": {
            "text/plain": [
              "{'C': 10, 'epsilon': 0.3, 'gamma': 1e-07, 'kernel': 'linear'}"
            ]
          },
          "execution_count": 27,
          "metadata": {},
          "output_type": "execute_result"
        }
      ],
      "source": [
        "#time: approximately 22 minutes\n",
        "#SVM regression Hyper paramter tuning\n",
        "parameters = {'kernel': ('linear', 'rbf','poly'), \n",
        "              'C':[1.5, 10],\n",
        "              'gamma': [1e-7, 1e-4],\n",
        "              'epsilon':[0.1,0.2,0.5,0.3]}\n",
        "grid = GridSearchCV(SVR(), param_grid = parameters)\n",
        "grid.fit(x_train,y_train)\n",
        "grid.best_params_"
      ]
    },
    {
      "cell_type": "code",
      "execution_count": null,
      "metadata": {
        "colab": {
          "base_uri": "https://localhost:8080/"
        },
        "id": "vjXf5ayTF-3x",
        "outputId": "d27e6cf7-e62f-42c6-a371-793ad6d18388"
      },
      "outputs": [
        {
          "name": "stdout",
          "output_type": "stream",
          "text": [
            "Mean Absolute Error (MAE): 25.961645876644507\n",
            "Mean Absolute Percentage Error (MAPE): 0.40320969745353763\n",
            "Coefficient of Determination (R2): 0.2706248888270655\n",
            "Mean Squared Error (MSE): 2088.3554209406966\n"
          ]
        }
      ],
      "source": [
        "#best parameters for SVM Regressor\n",
        "regressor = SVR(kernel = \"linear\",C=10,\n",
        "                gamma=1e-07,epsilon=0.3) #predict\n",
        "regressor.fit(x_train, y_train) \n",
        "pred = regressor.predict(x_test)\n",
        "print(\"Mean Absolute Error (MAE): {}\".format(mean_absolute_error(y_test,pred)))\n",
        "print(\"Mean Absolute Percentage Error (MAPE): {}\".format(mean_absolute_percentage_error(y_test,pred)))\n",
        "print(\"Coefficient of Determination (R2): {}\".format(r2_score(y_test,pred)))\n",
        "print(\"Mean Squared Error (MSE): {}\".format(mean_squared_error(y_test,pred)))"
      ]
    },
    {
      "cell_type": "markdown",
      "metadata": {
        "id": "xjViE52V2oAT"
      },
      "source": [
        "## Cross Validation - SVM Regressor"
      ]
    },
    {
      "cell_type": "code",
      "execution_count": null,
      "metadata": {
        "id": "3tpOdgAgF-6f"
      },
      "outputs": [],
      "source": [
        "#k=5 cross validation SVM Regressor\n",
        "svm = cross_val_score(estimator=regressor,\n",
        "scoring=\"neg_mean_absolute_error\",\n",
        "        X=x_train, y=y_train, cv=5)"
      ]
    },
    {
      "cell_type": "code",
      "execution_count": null,
      "metadata": {
        "colab": {
          "base_uri": "https://localhost:8080/"
        },
        "id": "xrFuvtHNG1aW",
        "outputId": "19a35429-d611-43f4-f561-3083fd3de413"
      },
      "outputs": [
        {
          "name": "stdout",
          "output_type": "stream",
          "text": [
            "SVM Regressor Cross Validation\n",
            "Mean Absolute Error (MAE): 25.40052779906006\n",
            "Std: 0.7827170943747955\n"
          ]
        }
      ],
      "source": [
        "print(\"SVM Regressor Cross Validation\")\n",
        "print(\"Mean Absolute Error (MAE): {}\".format(-svm.mean()))\n",
        "print(\"Std: {}\".format(svm.std()))"
      ]
    },
    {
      "cell_type": "markdown",
      "metadata": {
        "id": "tuQ9wAJGMatp"
      },
      "source": [
        "## XGBoost Regressor"
      ]
    },
    {
      "cell_type": "code",
      "execution_count": 90,
      "metadata": {
        "id": "qhB_6E_HF_Dk"
      },
      "outputs": [],
      "source": [
        " #run this, if the following code can not run\n",
        " try: \n",
        "     import xgboost \n",
        " except ImportError: \n",
        "     pass \n",
        " except: \n",
        "     print(\"xgboost is installed...but failed to load!\") \n",
        "     pass "
      ]
    },
    {
      "cell_type": "code",
      "execution_count": 92,
      "metadata": {
        "colab": {
          "base_uri": "https://localhost:8080/"
        },
        "id": "uRcRg4DRF_Bb",
        "outputId": "dc7d9696-9304-4d7d-b99a-7658db6838f2"
      },
      "outputs": [
        {
          "output_type": "stream",
          "name": "stdout",
          "text": [
            "[14:41:34] WARNING: /workspace/src/objective/regression_obj.cu:152: reg:linear is now deprecated in favor of reg:squarederror.\n",
            "Mean Absolute Error (MAE): 23.40744680386437\n",
            "Mean Absolute Percentage Error (MAPE): 0.3870325851658614\n",
            "Coefficient of Determination (R2): 0.45115740191622866\n",
            "Mean Squared Error (MSE): 1571.4526001692175\n"
          ]
        }
      ],
      "source": [
        "xgb = xgboost.XGBRegressor(n_estimators=500, learning_rate=0.08, gamma=0, subsample=0.75,\n",
        "    colsample_bytree=1, max_depth=7)\n",
        "xgb.fit(x_train,y_train)\n",
        "#calculate and print scores for the model for top 15 features\n",
        "y_test_preds = xgb.predict(x_test)\n",
        "print(\"Mean Absolute Error (MAE): {}\".format(mean_absolute_error(y_test,pred)))\n",
        "print(\"Mean Absolute Percentage Error (MAPE): {}\".format(mean_absolute_percentage_error(y_test,pred)))\n",
        "print(\"Coefficient of Determination (R2): {}\".format(r2_score(y_test,pred)))\n",
        "print(\"Mean Squared Error (MSE): {}\".format(mean_squared_error(y_test,pred)))"
      ]
    },
    {
      "cell_type": "code",
      "execution_count": null,
      "metadata": {
        "colab": {
          "base_uri": "https://localhost:8080/",
          "height": 491
        },
        "id": "BH-yb6pKF_N9",
        "outputId": "6c5240b3-93a5-42b3-e491-6c657cca6ade"
      },
      "outputs": [
        {
          "data": {
            "image/png": "[encoded data removed]",
            "text/plain": [
              "<Figure size 1500x600 with 1 Axes>"
            ]
          },
          "metadata": {},
          "output_type": "display_data"
        }
      ],
      "source": [
        "dxgb = pd.DataFrame({\"feature\":x.columns,\n",
        "                     \"importance\":xgb.feature_importances_})\n",
        "#plot\n",
        "f, ax = plt.subplots(1,1,figsize=(15,6))\n",
        "ax = plt.bar(dxgb.feature,dxgb.importance)\n",
        "plt.xticks(rotation=80)\n",
        "plt.title(\"Importance of features - XGBoost Regressor\")\n",
        "plt.show()"
      ]
    },
    {
      "cell_type": "markdown",
      "metadata": {
        "id": "xc_z_M1T2zrQ"
      },
      "source": [
        "## Cross Validation XGBoost Regressor"
      ]
    },
    {
      "cell_type": "code",
      "execution_count": null,
      "metadata": {
        "id": "8p5kVvRSICXJ"
      },
      "outputs": [],
      "source": [
        "xgr = cross_val_score(estimator=xgb,\n",
        "scoring=\"neg_mean_absolute_error\",\n",
        "        X=x_train, y=y_train, cv=5)"
      ]
    },
    {
      "cell_type": "code",
      "execution_count": null,
      "metadata": {
        "colab": {
          "base_uri": "https://localhost:8080/"
        },
        "id": "9i-OU3L6ICmc",
        "outputId": "e64391a0-e40d-44ac-a262-d94ffafbc802"
      },
      "outputs": [
        {
          "name": "stdout",
          "output_type": "stream",
          "text": [
            "XGBoost Regressor Cross Validation\n",
            "Mean Absolute Error (MAE): 24.394118740086913\n",
            "Std: 0.36773538496263625\n"
          ]
        }
      ],
      "source": [
        "print(\"XGBoost Regressor Cross Validation\")\n",
        "print(\"Mean Absolute Error (MAE): {}\".format(-xgr.mean()))\n",
        "print(\"Std: {}\".format(xgr.std()))"
      ]
    },
    {
      "cell_type": "markdown",
      "metadata": {
        "id": "Uo0RGF-dObOE"
      },
      "source": [
        "## Random Forest Regressor"
      ]
    },
    {
      "cell_type": "code",
      "execution_count": null,
      "metadata": {
        "colab": {
          "base_uri": "https://localhost:8080/"
        },
        "id": "vEqNWKW5F_QL",
        "outputId": "2aedc706-cbe0-4a89-f349-2ad2a84a9f20"
      },
      "outputs": [
        {
          "name": "stdout",
          "output_type": "stream",
          "text": [
            "Mean Absolute Error (MAE): 24.22113886466165\n",
            "Mean Absolute Percentage Error (MAPE): 0.4114898544346555\n",
            "Coefficient of Determination (R2): 0.43703603683786585\n",
            "Mean Squared Error (MSE): 1611.8850592163283\n"
          ]
        }
      ],
      "source": [
        "#Random Forest\n",
        "rf = RandomForestRegressor(n_estimators = 1000)\n",
        "# Train the model on training data\n",
        "rf.fit(x_train, y_train)\n",
        "predictions = rf.predict(x_test)\n",
        "print(\"Mean Absolute Error (MAE): {}\".format(mean_absolute_error(y_test,predictions)))\n",
        "print(\"Mean Absolute Percentage Error (MAPE): {}\".format(mean_absolute_percentage_error(y_test,predictions)))\n",
        "print(\"Coefficient of Determination (R2): {}\".format(r2_score(y_test,predictions)))\n",
        "print(\"Mean Squared Error (MSE): {}\".format(mean_squared_error(y_test,predictions)))"
      ]
    },
    {
      "cell_type": "markdown",
      "metadata": {
        "id": "bPHgjLn424Ir"
      },
      "source": [
        "## Cross Validation - Random Forest Regressor"
      ]
    },
    {
      "cell_type": "code",
      "execution_count": null,
      "metadata": {
        "id": "zy3bErk_IRmi"
      },
      "outputs": [],
      "source": [
        "#time: approximately 6 minutes\n",
        "rfr = cross_val_score(estimator=rf,\n",
        "scoring=\"neg_mean_absolute_error\",\n",
        "        X=x_train, y=y_train, cv=5)"
      ]
    },
    {
      "cell_type": "code",
      "execution_count": null,
      "metadata": {
        "colab": {
          "base_uri": "https://localhost:8080/"
        },
        "id": "GKqN0Of-IR6W",
        "outputId": "36980c27-f9c5-4284-c549-f95c0e279f74"
      },
      "outputs": [
        {
          "name": "stdout",
          "output_type": "stream",
          "text": [
            "Random Forest Regressor Cross Validation\n",
            "Mean Absolute Error (MAE): 24.200335074055666\n",
            "Std: 0.6143683567736242\n"
          ]
        }
      ],
      "source": [
        "print(\"Random Forest Regressor Cross Validation\")\n",
        "print(\"Mean Absolute Error (MAE): {}\".format(-rfr.mean()))\n",
        "print(\"Std: {}\".format(rfr.std()))"
      ]
    },
    {
      "cell_type": "markdown",
      "metadata": {
        "id": "brAI-ifLOf9n"
      },
      "source": [
        "# Ensemble Methods for Regression"
      ]
    },
    {
      "cell_type": "markdown",
      "metadata": {
        "id": "F8f5qwc1Oyzs"
      },
      "source": [
        "## Stacking method with final_estimator: Linear Regression"
      ]
    },
    {
      "cell_type": "code",
      "execution_count": 82,
      "metadata": {
        "colab": {
          "base_uri": "https://localhost:8080/"
        },
        "id": "3BjkeLd4F_TZ",
        "outputId": "592ba601-8053-4c80-c239-40348f6251a8"
      },
      "outputs": [
        {
          "output_type": "stream",
          "name": "stdout",
          "text": [
            "[14:34:19] WARNING: /workspace/src/objective/regression_obj.cu:152: reg:linear is now deprecated in favor of reg:squarederror.\n",
            "[14:34:30] WARNING: /workspace/src/objective/regression_obj.cu:152: reg:linear is now deprecated in favor of reg:squarederror.\n",
            "[14:34:30] WARNING: /workspace/src/objective/regression_obj.cu:152: reg:linear is now deprecated in favor of reg:squarederror.\n",
            "[14:34:30] WARNING: /workspace/src/objective/regression_obj.cu:152: reg:linear is now deprecated in favor of reg:squarederror.\n",
            "[14:34:31] WARNING: /workspace/src/objective/regression_obj.cu:152: reg:linear is now deprecated in favor of reg:squarederror.\n",
            "[14:34:31] WARNING: /workspace/src/objective/regression_obj.cu:152: reg:linear is now deprecated in favor of reg:squarederror.\n",
            "Mean Absolute Error (MAE): 23.40744680386437\n",
            "Mean Absolute Percentage Error (MAPE): 0.3870325851658614\n",
            "Coefficient of Determination (R2): 0.45115740191622866\n",
            "Mean Squared Error (MSE): 1571.4526001692175\n"
          ]
        }
      ],
      "source": [
        "#time: approximately 4 minutes\n",
        "level0 = []\n",
        "level0.append(('xgboost', xgboost.XGBRegressor()))\n",
        "level0.append(('tree',  DecisionTreeRegressor(max_depth=8,criterion=\"absolute_error\",\n",
        "    max_leaf_nodes=100,min_samples_split=10,min_samples_leaf=20)))\n",
        "level0.append(('svm', SVR(kernel = \"linear\",C=10,\n",
        "                gamma=1e-07,epsilon=0.1)))\n",
        "level0.append(('knn',neighbors.KNeighborsRegressor(n_neighbors = 10)))\n",
        "level0.append(('linear',LinearRegression()))\n",
        "level0.append(('rf',RandomForestRegressor(n_estimators = 200,\n",
        "                                          random_state = 3)))\n",
        "level1 = LinearRegression()\n",
        "reg = StackingRegressor(estimators=level0,\n",
        "                        final_estimator=level1)\n",
        "reg.fit(x_train,y_train)\n",
        "pred = reg.predict(x_test)\n",
        "print(\"Mean Absolute Error (MAE): {}\".format(mean_absolute_error(y_test,pred)))\n",
        "print(\"Mean Absolute Percentage Error (MAPE): {}\".format(mean_absolute_percentage_error(y_test,pred)))\n",
        "print(\"Coefficient of Determination (R2): {}\".format(r2_score(y_test,pred)))\n",
        "print(\"Mean Squared Error (MSE): {}\".format(mean_squared_error(y_test,pred)))"
      ]
    },
    {
      "cell_type": "markdown",
      "metadata": {
        "id": "-6JjgysjLFYz"
      },
      "source": [
        "## Cross Validation Stacking method (final_estimator: Linear Regression)\n",
        "\n"
      ]
    },
    {
      "cell_type": "code",
      "execution_count": null,
      "metadata": {
        "id": "QxUlQadALO-3"
      },
      "outputs": [],
      "source": [
        "#time: approximately 30 minutes\n",
        "slr = cross_val_score(estimator=reg,\n",
        "scoring=\"neg_mean_absolute_error\",\n",
        "        X=x_train, y=y_train, cv=5)"
      ]
    },
    {
      "cell_type": "code",
      "execution_count": 93,
      "metadata": {
        "id": "BCpCrCTLLPNz",
        "colab": {
          "base_uri": "https://localhost:8080/"
        },
        "outputId": "800f8af5-09fd-4777-deb7-f4ed790f4e69"
      },
      "outputs": [
        {
          "output_type": "stream",
          "name": "stdout",
          "text": [
            "Stacking Regressor (base_estimator:Linear Regression) Cross Validation\n",
            "Mean Absolute Error (MAE): 23.450976972281804\n",
            "Std: 0.7009425186443287\n"
          ]
        }
      ],
      "source": [
        "print(\"Stacking Regressor (base_estimator:Linear Regression) Cross Validation\")\n",
        "print(\"Mean Absolute Error (MAE): {}\".format(-slr.mean()))\n",
        "print(\"Std: {}\".format(slr.std()))"
      ]
    },
    {
      "cell_type": "markdown",
      "metadata": {
        "id": "HPJdOgQiQuWt"
      },
      "source": [
        "## Stacking method with final_estimator: Random Forest Regressor"
      ]
    },
    {
      "cell_type": "code",
      "execution_count": null,
      "metadata": {
        "colab": {
          "base_uri": "https://localhost:8080/",
          "height": 235
        },
        "id": "BbHWISauF_YO",
        "outputId": "5f8eee6d-15fc-4c68-8aec-456dc0bd018a"
      },
      "outputs": [
        {
          "name": "stdout",
          "output_type": "stream",
          "text": [
            "Mean Absolute Error (MAE): 24.42098409356725\n",
            "Mean Absolute Percentage Error (MAPE): 0.4094538429216914\n",
            "Coefficient of Determination (R2): 0.4227747234025697\n",
            "Mean Squared Error (MSE): 1652.7182200496347\n"
          ]
        }
      ],
      "source": [
        "level1 = RandomForestRegressor(n_estimators = 200, random_state = 3)\n",
        "reg = StackingRegressor(estimators=level0,#objective ='reg:squarederror'\n",
        "                        final_estimator=level1)\n",
        "reg.fit(x_train,y_train)\n",
        "pred = reg.predict(x_test)\n",
        "print(\"Mean Absolute Error (MAE): {}\".format(mean_absolute_error(y_test,pred)))\n",
        "print(\"Mean Absolute Percentage Error (MAPE): {}\".format(mean_absolute_percentage_error(y_test,pred)))\n",
        "print(\"Coefficient of Determination (R2): {}\".format(r2_score(y_test,pred)))\n",
        "print(\"Mean Squared Error (MSE): {}\".format(mean_squared_error(y_test,pred)))"
      ]
    },
    {
      "cell_type": "markdown",
      "metadata": {
        "id": "ZuU7on8pLaDS"
      },
      "source": [
        "## Cross Validation Stacking method (final_estimator:  Random Forest Regressor)"
      ]
    },
    {
      "cell_type": "code",
      "execution_count": null,
      "metadata": {
        "id": "2aZK0CtILfB3"
      },
      "outputs": [],
      "source": [
        "#time: approximately 6 minutes\n",
        "srf = cross_val_score(estimator=reg,\n",
        "scoring=\"neg_mean_absolute_error\",\n",
        "        X=x_train, y=y_train, cv=5)"
      ]
    },
    {
      "cell_type": "code",
      "execution_count": null,
      "metadata": {
        "id": "1FfsQqeXLfQz",
        "outputId": "b2acb9bb-4fb7-4cea-d583-60677335af80"
      },
      "outputs": [
        {
          "name": "stdout",
          "output_type": "stream",
          "text": [
            "Stacking Regressor (base_estimator:Linear Regression) Cross Validation\n",
            "Mean Absolute Error (MAE): 26.128648667755094\n",
            "Std: 1.1643315080640146\n"
          ]
        }
      ],
      "source": [
        "print(\"Stacking Regressor (base_estimator:Linear Regression) Cross Validation\")\n",
        "print(\"Mean Absolute Error (MAE): {}\".format(-srf.mean()))\n",
        "print(\"Std: {}\".format(srf.std()))"
      ]
    },
    {
      "cell_type": "markdown",
      "metadata": {
        "id": "eqVTdDLiReY9"
      },
      "source": [
        "# Bagging ensemble approach for regression"
      ]
    },
    {
      "cell_type": "markdown",
      "metadata": {
        "id": "GRiWaCjr94ZS"
      },
      "source": [
        "## Bagging with base_estimator: Desicion Tree Regressor"
      ]
    },
    {
      "cell_type": "code",
      "execution_count": null,
      "metadata": {
        "colab": {
          "base_uri": "https://localhost:8080/",
          "height": 380
        },
        "id": "HiUioi239uV6",
        "outputId": "747c7543-4251-42df-bc72-0b2ad240ccfe"
      },
      "outputs": [
        {
          "name": "stdout",
          "output_type": "stream",
          "text": [
            "Mean Absolute Error (MAE): 23.916462280701754\n",
            "Mean Absolute Percentage Error (MAPE): 0.36739918745684663\n",
            "Coefficient of Determination (R2): 0.35922665040689516\n",
            "Mean Squared Error (MSE): 1834.6698121699562\n"
          ]
        }
      ],
      "source": [
        "reg = BaggingRegressor(base_estimator =  DecisionTreeRegressor(max_depth=8,criterion=\"absolute_error\",\n",
        "    max_leaf_nodes=100,min_samples_split=10,min_samples_leaf=20),n_estimators=400)\n",
        "reg.fit(x_train,y_train)\n",
        "pred = reg.predict(x_test)\n",
        "print(\"Mean Absolute Error (MAE): {}\".format(mean_absolute_error(y_test,pred)))\n",
        "print(\"Mean Absolute Percentage Error (MAPE): {}\".format(mean_absolute_percentage_error(y_test,pred)))\n",
        "print(\"Coefficient of Determination (R2): {}\".format(r2_score(y_test,pred)))\n",
        "print(\"Mean Squared Error (MSE): {}\".format(mean_squared_error(y_test,pred)))"
      ]
    },
    {
      "cell_type": "markdown",
      "metadata": {
        "id": "Qnz57V1qL8Qf"
      },
      "source": [
        "## Cross Validation Bagging method (base_estimator: Desicion Tree Regressor)"
      ]
    },
    {
      "cell_type": "code",
      "execution_count": null,
      "metadata": {
        "id": "OBbKzG-9L7ji"
      },
      "outputs": [],
      "source": [
        "#time: approximately 6 minutes\n",
        "bdtr = cross_val_score(estimator=reg,\n",
        "scoring=\"neg_mean_absolute_error\",\n",
        "        X=x_train, y=y_train, cv=5)"
      ]
    },
    {
      "cell_type": "code",
      "execution_count": null,
      "metadata": {
        "id": "_e9DQglDL8Aj",
        "outputId": "23ac13e1-3c2e-4f42-b2b5-5757732592f3"
      },
      "outputs": [
        {
          "name": "stdout",
          "output_type": "stream",
          "text": [
            "Stacking Regressor (base_estimator:Linear Regression) Cross Validation\n",
            "Mean Absolute Error (MAE): 24.02357701615809\n",
            "Std: 0.7391967429277679\n"
          ]
        }
      ],
      "source": [
        "print(\"Stacking Regressor (base_estimator:Linear Regression) Cross Validation\")\n",
        "print(\"Mean Absolute Error (MAE): {}\".format(-bdtr.mean()))\n",
        "print(\"Std: {}\".format(bdtr.std()))"
      ]
    },
    {
      "cell_type": "markdown",
      "metadata": {
        "id": "zEQJsmsU9-45"
      },
      "source": [
        "## Bagging with base_estimator: XGBRegressor"
      ]
    },
    {
      "cell_type": "code",
      "execution_count": null,
      "metadata": {
        "colab": {
          "base_uri": "https://localhost:8080/",
          "height": 380
        },
        "id": "BQTNRdE3F_aq",
        "outputId": "a16a9f7d-5416-4b07-f3ee-65bf228521d3"
      },
      "outputs": [
        {
          "name": "stdout",
          "output_type": "stream",
          "text": [
            "Mean Absolute Error (MAE): 23.171366317481326\n",
            "Mean Absolute Percentage Error (MAPE): 0.38595302332034426\n",
            "Coefficient of Determination (R2): 0.46809860642615675\n",
            "Mean Squared Error (MSE): 1522.9463436029923\n"
          ]
        }
      ],
      "source": [
        "#Bagging base_estimator :XGB\n",
        "reg = BaggingRegressor(base_estimator = xgboost.XGBRegressor(n_estimators=100,\n",
        "    learning_rate=0.08, gamma=0, subsample=0.75,colsample_bytree=1, objective ='reg:squarederror',\n",
        "    max_depth=7),n_estimators=200)\n",
        "reg.fit(x_train,y_train)\n",
        "pred = reg.predict(x_test)\n",
        "print(\"Mean Absolute Error (MAE): {}\".format(mean_absolute_error(y_test,pred)))\n",
        "print(\"Mean Absolute Percentage Error (MAPE): {}\".format(mean_absolute_percentage_error(y_test,pred)))\n",
        "print(\"Coefficient of Determination (R2): {}\".format(r2_score(y_test,pred)))\n",
        "print(\"Mean Squared Error (MSE): {}\".format(mean_squared_error(y_test,pred)))"
      ]
    },
    {
      "cell_type": "markdown",
      "metadata": {
        "id": "pTwBGsYCMYhy"
      },
      "source": [
        "## Cross Validation Bagging method (base_estimator: XGB Regressor)"
      ]
    },
    {
      "cell_type": "code",
      "execution_count": null,
      "metadata": {
        "id": "ZtVZSMkcMYOZ"
      },
      "outputs": [],
      "source": [
        "#time: approximately 6 minutes\n",
        "bxgb = cross_val_score(estimator=reg,\n",
        "scoring=\"neg_mean_absolute_error\",\n",
        "        X=x_train, y=y_train, cv=5)"
      ]
    },
    {
      "cell_type": "code",
      "execution_count": null,
      "metadata": {
        "id": "hK5GZLKI9psh",
        "outputId": "168b5693-2ceb-47ed-f385-ee6def3c7fe1"
      },
      "outputs": [
        {
          "name": "stdout",
          "output_type": "stream",
          "text": [
            "Stacking Regressor (base_estimator:Linear Regression) Cross Validation\n",
            "Mean Absolute Error (MAE): 24.578355543712114\n",
            "Std: 0.6894480974005539\n"
          ]
        }
      ],
      "source": [
        "print(\"Stacking Regressor (base_estimator:Linear Regression) Cross Validation\")\n",
        "print(\"Mean Absolute Error (MAE): {}\".format(-bxgb.mean()))\n",
        "print(\"Std: {}\".format(bxgb.std()))"
      ]
    },
    {
      "cell_type": "markdown",
      "metadata": {
        "id": "30twC-YsS89w"
      },
      "source": [
        "# Boosting ensemble method"
      ]
    },
    {
      "cell_type": "code",
      "execution_count": null,
      "metadata": {
        "colab": {
          "base_uri": "https://localhost:8080/",
          "height": 363
        },
        "id": "wFe6dPhUF_dN",
        "outputId": "adc23cf6-702c-4d1a-e7ad-010dfa0292c9"
      },
      "outputs": [
        {
          "data": {
            "text/plain": [
              "{'learning_rate': 0.01, 'max_depth': 3, 'n_estimators': 1000, 'subsample': 0.5}"
            ]
          },
          "execution_count": 42,
          "metadata": {},
          "output_type": "execute_result"
        }
      ],
      "source": [
        "#Boosting Hyper Parameter Tuning\n",
        "from sklearn.ensemble import GradientBoostingRegressor\n",
        "parameters = {\"n_estimators\":[500,1000],\n",
        "\"learning_rate\":[0.01,0.1],\"max_depth\":[1,2,3],\"subsample\":[0.5,1]}\n",
        "search = GridSearchCV(estimator = GradientBoostingRegressor(),\n",
        "   param_grid = parameters,scoring=\"neg_mean_absolute_error\")\n",
        "search.fit(x,y)\n",
        "search.best_params_"
      ]
    },
    {
      "cell_type": "code",
      "execution_count": null,
      "metadata": {
        "colab": {
          "base_uri": "https://localhost:8080/"
        },
        "id": "0LcNWcFtF_fY",
        "outputId": "e2b85d23-49fc-4d9d-ecd0-af9828e8f07e"
      },
      "outputs": [
        {
          "name": "stdout",
          "output_type": "stream",
          "text": [
            "Mean Absolute Error (MAE): 24.219821844336014\n",
            "Mean Absolute Percentage Error (MAPE): 0.41087020744635794\n",
            "Coefficient of Determination (R2): 0.42512819056129747\n",
            "Mean Squared Error (MSE): 1645.9797451227466\n"
          ]
        }
      ],
      "source": [
        "#best parameters for GradientBoostingRegressor\n",
        "reg = GradientBoostingRegressor(\n",
        "    learning_rate=0.01,max_depth=3,n_estimators=1000,subsample=0.5)\n",
        "reg.fit(x_train,y_train)\n",
        "pred =reg.predict(x_test)\n",
        "print(\"Mean Absolute Error (MAE): {}\".format(mean_absolute_error(y_test,pred)))\n",
        "print(\"Mean Absolute Percentage Error (MAPE): {}\".format(mean_absolute_percentage_error(y_test,pred)))\n",
        "print(\"Coefficient of Determination (R2): {}\".format(r2_score(y_test,pred)))\n",
        "print(\"Mean Squared Error (MSE): {}\".format(mean_squared_error(y_test,pred)))"
      ]
    },
    {
      "cell_type": "markdown",
      "metadata": {
        "id": "DT5Jdx87MmRI"
      },
      "source": [
        "## Cross Validation Boosting method"
      ]
    },
    {
      "cell_type": "code",
      "execution_count": null,
      "metadata": {
        "id": "sBbRdgTVF_mt"
      },
      "outputs": [],
      "source": [
        "#time: approximately 6 minutes\n",
        "boo = cross_val_score(estimator=reg,\n",
        "scoring=\"neg_mean_absolute_error\",\n",
        "        X=x_train, y=y_train, cv=5)"
      ]
    },
    {
      "cell_type": "code",
      "execution_count": null,
      "metadata": {
        "colab": {
          "base_uri": "https://localhost:8080/"
        },
        "id": "CS8UkPUwF_pW",
        "outputId": "de91c831-59d5-499e-ca94-bf493504074b"
      },
      "outputs": [
        {
          "name": "stdout",
          "output_type": "stream",
          "text": [
            "Stacking Regressor (base_estimator:Linear Regression) Cross Validation\n",
            "Mean Absolute Error (MAE): 24.7770471944468\n",
            "Std: 0.8729905050951988\n"
          ]
        }
      ],
      "source": [
        "print(\"Stacking Regressor (base_estimator:Linear Regression) Cross Validation\")\n",
        "print(\"Mean Absolute Error (MAE): {}\".format(-boo.mean()))\n",
        "print(\"Std: {}\".format(boo.std()))"
      ]
    },
    {
      "cell_type": "markdown",
      "metadata": {
        "id": "8OHwFTWIF5Q6"
      },
      "source": [
        "#  Results"
      ]
    },
    {
      "cell_type": "code",
      "execution_count": null,
      "metadata": {
        "id": "nTYdPIW_F5Th",
        "outputId": "2988a837-201d-439e-ea62-fa100461db7c"
      },
      "outputs": [
        {
          "data": {
            "text/html": [
              "<div>\n",
              "<style scoped>\n",
              "    .dataframe tbody tr th:only-of-type {\n",
              "        vertical-align: middle;\n",
              "    }\n",
              "\n",
              "    .dataframe tbody tr th {\n",
              "        vertical-align: top;\n",
              "    }\n",
              "\n",
              "    .dataframe thead th {\n",
              "        text-align: right;\n",
              "    }\n",
              "</style>\n",
              "<table border=\"1\" class=\"dataframe\">\n",
              "  <thead>\n",
              "    <tr style=\"text-align: right;\">\n",
              "      <th></th>\n",
              "      <th>model</th>\n",
              "      <th>MAE</th>\n",
              "    </tr>\n",
              "  </thead>\n",
              "  <tbody>\n",
              "    <tr>\n",
              "      <th>6</th>\n",
              "      <td>Bagging (DTree)</td>\n",
              "      <td>24.023577</td>\n",
              "    </tr>\n",
              "    <tr>\n",
              "      <th>7</th>\n",
              "      <td>Bagging (XGboost)</td>\n",
              "      <td>24.578356</td>\n",
              "    </tr>\n",
              "    <tr>\n",
              "      <th>8</th>\n",
              "      <td>Boosting</td>\n",
              "      <td>24.777047</td>\n",
              "    </tr>\n",
              "    <tr>\n",
              "      <th>4</th>\n",
              "      <td>Stacking (LR)</td>\n",
              "      <td>24.866559</td>\n",
              "    </tr>\n",
              "    <tr>\n",
              "      <th>0</th>\n",
              "      <td>Desicion Tree</td>\n",
              "      <td>25.231511</td>\n",
              "    </tr>\n",
              "    <tr>\n",
              "      <th>1</th>\n",
              "      <td>SVM</td>\n",
              "      <td>26.099061</td>\n",
              "    </tr>\n",
              "    <tr>\n",
              "      <th>5</th>\n",
              "      <td>Stacking (RF)</td>\n",
              "      <td>26.128649</td>\n",
              "    </tr>\n",
              "    <tr>\n",
              "      <th>3</th>\n",
              "      <td>Random Forest</td>\n",
              "      <td>26.261003</td>\n",
              "    </tr>\n",
              "    <tr>\n",
              "      <th>2</th>\n",
              "      <td>XGBoost</td>\n",
              "      <td>26.373236</td>\n",
              "    </tr>\n",
              "  </tbody>\n",
              "</table>\n",
              "</div>"
            ],
            "text/plain": [
              "               model        MAE\n",
              "6    Bagging (DTree)  24.023577\n",
              "7  Bagging (XGboost)  24.578356\n",
              "8           Boosting  24.777047\n",
              "4      Stacking (LR)  24.866559\n",
              "0      Desicion Tree  25.231511\n",
              "1                SVM  26.099061\n",
              "5      Stacking (RF)  26.128649\n",
              "3      Random Forest  26.261003\n",
              "2            XGBoost  26.373236"
            ]
          },
          "execution_count": 57,
          "metadata": {},
          "output_type": "execute_result"
        }
      ],
      "source": [
        "results = pd.DataFrame({\"model\":[\"Desicion Tree\",\"SVM\",\"XGBoost\",\"Random Forest\",\"Stacking (LR)\",\"Stacking (RF)\",\n",
        "                                \"Bagging (DTree)\",\"Bagging (XGboost)\",\"Boosting\"],\n",
        "                        \"MAE\":[-dtr.mean(),-svm.mean(),-xgr.mean(),-rfr.mean(),-slr.mean(),-srf.mean(),\n",
        "                              -bdtr.mean(),-bxgb.mean(),-boo.mean()]\n",
        "                       })\n",
        "results.sort_values(by=\"MAE\",ascending=True)"
      ]
    },
    {
      "cell_type": "markdown",
      "metadata": {
        "id": "RD_X7mvYiJDt"
      },
      "source": [
        "#  Appendix"
      ]
    },
    {
      "cell_type": "markdown",
      "metadata": {
        "id": "5GxPDwXviJDt"
      },
      "source": [
        "## Ways to improve our models: We can use log(price) instead of price"
      ]
    },
    {
      "cell_type": "code",
      "execution_count": null,
      "metadata": {
        "id": "uMMRTwJviJDu"
      },
      "outputs": [],
      "source": [
        "#spliting the data\n",
        "x = df2.drop(\"price\",axis=1)\n",
        "y=np.log(df2[\"price\"])\n",
        "x_train, x_test, y_train, y_test = train_test_split(x, y, test_size = 0.3,random_state=13)\n",
        "sc = StandardScaler()\n",
        "x_train = sc.fit_transform(x_train)\n",
        "x_test = sc.fit_transform(x_test)"
      ]
    },
    {
      "cell_type": "markdown",
      "metadata": {
        "id": "p3zFB2O8iJDu"
      },
      "source": [
        "### Desicion Tree Regressor"
      ]
    },
    {
      "cell_type": "code",
      "execution_count": null,
      "metadata": {
        "id": "vXm2644uiJDu",
        "outputId": "ee8e6164-664c-4783-afe2-16f3cc957432"
      },
      "outputs": [
        {
          "name": "stdout",
          "output_type": "stream",
          "text": [
            "Mean Absolute Error (MAE): 24.99448604170394\n"
          ]
        }
      ],
      "source": [
        "#Best parameters for Desicion Tree Regressor\n",
        "regressor = DecisionTreeRegressor(max_depth=8,criterion=\"absolute_error\",\n",
        "    max_leaf_nodes=100,min_samples_split=10,min_samples_leaf=20)\n",
        "regressor.fit(x_train, y_train)\n",
        "pred = regressor.predict(x_test)\n",
        "print(\"Mean Absolute Error (MAE): {}\".format(mean_absolute_error(np.exp(y_test),np.exp(pred))))"
      ]
    },
    {
      "cell_type": "markdown",
      "metadata": {
        "id": "swRKvufPiJDu"
      },
      "source": [
        "## Random Forest"
      ]
    },
    {
      "cell_type": "code",
      "execution_count": null,
      "metadata": {
        "id": "aary8xx2iJDu",
        "outputId": "30371d7f-9829-43fd-a56d-cb14b4143ac4"
      },
      "outputs": [
        {
          "name": "stdout",
          "output_type": "stream",
          "text": [
            "Mean Absolute Error (MAE): 22.379183659231316\n"
          ]
        }
      ],
      "source": [
        "#Random Forest\n",
        "rf = RandomForestRegressor(n_estimators = 1000)\n",
        "rf.fit(x_train, y_train)\n",
        "predictions = rf.predict(x_test)\n",
        "print(\"Mean Absolute Error (MAE): {}\".format(mean_absolute_error(np.exp(y_test),np.exp(predictions))))"
      ]
    },
    {
      "cell_type": "markdown",
      "metadata": {
        "id": "u1yUzaoiiJDu"
      },
      "source": [
        "## Stacking final_estimator: Linear Regression "
      ]
    },
    {
      "cell_type": "code",
      "execution_count": null,
      "metadata": {
        "id": "abC_LKFxiJDv",
        "outputId": "145d3152-8185-41bb-82c9-3f3edc14f7bd"
      },
      "outputs": [
        {
          "name": "stdout",
          "output_type": "stream",
          "text": [
            "Mean Absolute Error (MAE): 0.3114492459392598\n"
          ]
        }
      ],
      "source": [
        "#time: approximately 4 minutes\n",
        "level0 = []\n",
        "level0.append(('xgboost', xgboost.XGBRegressor()))\n",
        "level0.append(('tree',  DecisionTreeRegressor(max_depth=8,criterion=\"absolute_error\",\n",
        "    max_leaf_nodes=100,min_samples_split=10,min_samples_leaf=20)))\n",
        "level0.append(('svm', SVR(kernel = \"linear\",C=10,\n",
        "                gamma=1e-07,epsilon=0.1)))\n",
        "level0.append(('knn',neighbors.KNeighborsRegressor(n_neighbors = 10)))\n",
        "level0.append(('linear',LinearRegression()))\n",
        "level0.append(('rf',RandomForestRegressor(n_estimators = 200,\n",
        "                                          random_state = 3)))\n",
        "level1 = LinearRegression()\n",
        "reg = StackingRegressor(estimators=level0,\n",
        "                        final_estimator=level1)\n",
        "reg.fit(x_train,y_train)\n",
        "pred = reg.predict(x_test)"
      ]
    },
    {
      "cell_type": "markdown",
      "metadata": {
        "id": "2Q6WYqXIiJDv"
      },
      "source": [
        "We can see that we have better results when we use log(price). "
      ]
    },
    {
      "cell_type": "code",
      "execution_count": null,
      "metadata": {
        "id": "qUBMK0BsiJDv",
        "outputId": "d2a6865a-eaa6-4374-b96c-30c90433565c"
      },
      "outputs": [
        {
          "name": "stdout",
          "output_type": "stream",
          "text": [
            "Mean Absolute Error (MAE): 22.083122719117306\n"
          ]
        }
      ],
      "source": [
        "print(\"Mean Absolute Error (MAE): {}\".format(mean_absolute_error(np.exp(y_test),np.exp(pred))))"
      ]
    },
    {
      "cell_type": "code",
      "execution_count": null,
      "metadata": {
        "id": "odB_RkkkiJDv"
      },
      "outputs": [],
      "source": []
    }
  ],
  "metadata": {
    "colab": {
      "collapsed_sections": [],
      "provenance": []
    },
    "kernelspec": {
      "display_name": "Python 3 (ipykernel)",
      "language": "python",
      "name": "python3"
    },
    "language_info": {
      "codemirror_mode": {
        "name": "ipython",
        "version": 3
      },
      "file_extension": ".py",
      "mimetype": "text/x-python",
      "name": "python",
      "nbconvert_exporter": "python",
      "pygments_lexer": "ipython3",
      "version": "3.9.12"
    }
  },
  "nbformat": 4,
  "nbformat_minor": 0
}
